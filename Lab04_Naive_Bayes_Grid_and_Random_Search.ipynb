{
  "cells": [
    {
      "cell_type": "markdown",
      "metadata": {
        "id": "view-in-github",
        "colab_type": "text"
      },
      "source": [
        "<a href=\"https://colab.research.google.com/github/fframee/lab/blob/main/Lab04_Naive_Bayes_Grid_and_Random_Search.ipynb\" target=\"_parent\"><img src=\"https://colab.research.google.com/assets/colab-badge.svg\" alt=\"Open In Colab\"/></a>"
      ]
    },
    {
      "cell_type": "markdown",
      "id": "e9252fd0-8fb3-4237-a32c-d2ae904aeba1",
      "metadata": {
        "id": "e9252fd0-8fb3-4237-a32c-d2ae904aeba1"
      },
      "source": [
        "### Statistical Learning for Data Science 2 (229352)\n",
        "#### Instructor: Donlapark Ponnoprat\n",
        "\n",
        "#### [Course website](https://donlapark.pages.dev/229352/)\n",
        "\n",
        "## Lab #4"
      ]
    },
    {
      "cell_type": "code",
      "execution_count": 1,
      "id": "70b30d42-2935-4d97-afb4-51b444e01360",
      "metadata": {
        "id": "70b30d42-2935-4d97-afb4-51b444e01360"
      },
      "outputs": [],
      "source": [
        "from sklearn.datasets import fetch_20newsgroups\n",
        "from sklearn.feature_extraction.text import TfidfVectorizer\n",
        "from sklearn.metrics import classification_report\n",
        "from sklearn.model_selection import GridSearchCV, RandomizedSearchCV\n",
        "\n",
        "from sklearn.naive_bayes import MultinomialNB\n",
        "from sklearn.pipeline import Pipeline\n",
        "\n",
        "from scipy.stats import uniform"
      ]
    },
    {
      "cell_type": "code",
      "execution_count": 2,
      "id": "b4116b7d-ca3e-4e82-8452-ec6b220bb328",
      "metadata": {
        "id": "b4116b7d-ca3e-4e82-8452-ec6b220bb328",
        "outputId": "cf10242d-7ad9-4053-f11f-6bd2111731b3",
        "colab": {
          "base_uri": "https://localhost:8080/"
        }
      },
      "outputs": [
        {
          "output_type": "stream",
          "name": "stdout",
          "text": [
            "X: 500\n",
            "y: 500\n"
          ]
        }
      ],
      "source": [
        "train = fetch_20newsgroups(subset='train')\n",
        "test = fetch_20newsgroups(subset='test')\n",
        "\n",
        "Xtrain = train.data[:3000]\n",
        "ytrain = train.target[:3000]\n",
        "Xtest = test.data[:500]\n",
        "ytest = test.target[:500]\n",
        "\n",
        "print(\"X:\", len(Xtest))\n",
        "print(\"y:\", len(ytest))"
      ]
    },
    {
      "cell_type": "markdown",
      "id": "452ca0da-2658-4daa-85be-d42ea298fe07",
      "metadata": {
        "id": "452ca0da-2658-4daa-85be-d42ea298fe07"
      },
      "source": [
        "### Naive Bayes [(Documentation)](https://scikit-learn.org/stable/modules/generated/sklearn.naive_bayes.MultinomialNB.html)"
      ]
    },
    {
      "cell_type": "code",
      "execution_count": null,
      "id": "1a2cb016-1e96-44e8-8c64-823ad825afd9",
      "metadata": {
        "id": "1a2cb016-1e96-44e8-8c64-823ad825afd9"
      },
      "outputs": [],
      "source": []
    },
    {
      "cell_type": "markdown",
      "id": "90fe0d6a-bb47-40ba-8660-c1af8f35eeb9",
      "metadata": {
        "id": "90fe0d6a-bb47-40ba-8660-c1af8f35eeb9"
      },
      "source": [
        "### Random Search Cross-Validation [(Documentation)](https://scikit-learn.org/stable/modules/generated/sklearn.model_selection.RandomizedSearchCV.html)\n",
        "\n",
        "### Uniform distribution in `Scipy` [(Documentation)](https://docs.scipy.org/doc/scipy/reference/generated/scipy.stats.uniform.html)"
      ]
    },
    {
      "cell_type": "code",
      "execution_count": null,
      "id": "73f44229-8e90-40ad-b1e7-827597dba207",
      "metadata": {
        "id": "73f44229-8e90-40ad-b1e7-827597dba207"
      },
      "outputs": [],
      "source": []
    },
    {
      "cell_type": "markdown",
      "id": "74f7ad65-0b56-4987-9493-c5f06a7f481b",
      "metadata": {
        "id": "74f7ad65-0b56-4987-9493-c5f06a7f481b"
      },
      "source": [
        "#### Exercise\n",
        "\n",
        "1. For the Naive Bayes model, use grid search 5-fold cross-validation across different values of `alpha` to find the best model.\n",
        "\n",
        "2. For the best value of `alpha`, compute the `f1_macro` score on the test set.\n",
        "* What value of `alpha` did you obtain?\n",
        "* What is the model's `f1_macro` score?\n",
        "\n",
        "3. Repeat Exercise 1 and 2 for **random search** 5-fold cross validation across different values of `alpha`. Compute the `f1_macro` score on the test set.\n",
        "* What value of `alpha` did you obtain?\n",
        "* Did you get a better `f1_macro` score compared to grid search in Exercise 2?"
      ]
    },
    {
      "cell_type": "code",
      "execution_count": 3,
      "id": "81b62e5d-b9f9-49a9-b3dc-0317cad6b6df",
      "metadata": {
        "id": "81b62e5d-b9f9-49a9-b3dc-0317cad6b6df",
        "colab": {
          "base_uri": "https://localhost:8080/"
        },
        "outputId": "62275aba-6bf7-4218-e964-42a8425f173c"
      },
      "outputs": [
        {
          "output_type": "stream",
          "name": "stdout",
          "text": [
            "Performing Grid Search...\n",
            "Best alpha (Grid Search): 0.001\n",
            "Best f1_macro score (Grid Search on training data): 0.8316349455351428\n",
            "f1_macro score on test set (Grid Search): 0.7442025675112527\n",
            "\n",
            "==================================================\n",
            "\n",
            "Performing Random Search...\n",
            "Best alpha (Random Search): 0.05808361216819946\n",
            "Best f1_macro score (Random Search on training data): 0.8082867260714419\n",
            "f1_macro score on test set (Random Search): 0.7309479579937921\n",
            "\n",
            "==================================================\n",
            "\n",
            "Comparison:\n",
            "Grid Search f1_macro: 0.7442\n",
            "Random Search f1_macro: 0.7309\n",
            "Grid Search obtained a better f1_macro score on the test set.\n"
          ]
        }
      ],
      "source": [
        "# Exercise 1 & 2: Grid Search Cross-Validation\n",
        "print(\"Performing Grid Search...\")\n",
        "pipeline_gs = Pipeline([\n",
        "    ('tfidf', TfidfVectorizer()),\n",
        "    ('nb', MultinomialNB())\n",
        "])\n",
        "\n",
        "param_grid = {'nb__alpha': [0.001, 0.01, 0.1, 1, 10]}\n",
        "\n",
        "grid_search = GridSearchCV(pipeline_gs, param_grid, cv=5, scoring='f1_macro')\n",
        "grid_search.fit(Xtrain, ytrain)\n",
        "\n",
        "print(\"Best alpha (Grid Search):\", grid_search.best_params_['nb__alpha'])\n",
        "print(\"Best f1_macro score (Grid Search on training data):\", grid_search.best_score_)\n",
        "\n",
        "# Evaluate on test set\n",
        "y_pred_gs = grid_search.predict(Xtest)\n",
        "report_gs = classification_report(ytest, y_pred_gs, output_dict=True)\n",
        "f1_macro_gs = report_gs['macro avg']['f1-score']\n",
        "print(\"f1_macro score on test set (Grid Search):\", f1_macro_gs)\n",
        "\n",
        "print(\"\\n\" + \"=\"*50 + \"\\n\")\n",
        "\n",
        "# Exercise 3: Random Search Cross-Validation\n",
        "print(\"Performing Random Search...\")\n",
        "pipeline_rs = Pipeline([\n",
        "    ('tfidf', TfidfVectorizer()),\n",
        "    ('nb', MultinomialNB())\n",
        "])\n",
        "\n",
        "param_dist = {'nb__alpha': uniform(loc=0, scale=1)}\n",
        "\n",
        "random_search = RandomizedSearchCV(pipeline_rs, param_distributions=param_dist, n_iter=10, cv=5, scoring='f1_macro', random_state=42)\n",
        "random_search.fit(Xtrain, ytrain)\n",
        "\n",
        "print(\"Best alpha (Random Search):\", random_search.best_params_['nb__alpha'])\n",
        "print(\"Best f1_macro score (Random Search on training data):\", random_search.best_score_)\n",
        "\n",
        "# Evaluate on test set\n",
        "y_pred_rs = random_search.predict(Xtest)\n",
        "report_rs = classification_report(ytest, y_pred_rs, output_dict=True)\n",
        "f1_macro_rs = report_rs['macro avg']['f1-score']\n",
        "print(\"f1_macro score on test set (Random Search):\", f1_macro_rs)\n",
        "\n",
        "# Compare results\n",
        "print(\"\\n\" + \"=\"*50 + \"\\n\")\n",
        "print(\"Comparison:\")\n",
        "print(f\"Grid Search f1_macro: {f1_macro_gs:.4f}\")\n",
        "print(f\"Random Search f1_macro: {f1_macro_rs:.4f}\")\n",
        "\n",
        "if f1_macro_rs > f1_macro_gs:\n",
        "    print(\"Random Search obtained a better f1_macro score on the test set.\")\n",
        "elif f1_macro_rs < f1_macro_gs:\n",
        "    print(\"Grid Search obtained a better f1_macro score on the test set.\")\n",
        "else:\n",
        "    print(\"Both Grid Search and Random Search obtained the same f1_macro score on the test set.\")"
      ]
    }
  ],
  "metadata": {
    "kernelspec": {
      "display_name": "Python 3 (ipykernel)",
      "language": "python",
      "name": "python3"
    },
    "language_info": {
      "codemirror_mode": {
        "name": "ipython",
        "version": 3
      },
      "file_extension": ".py",
      "mimetype": "text/x-python",
      "name": "python",
      "nbconvert_exporter": "python",
      "pygments_lexer": "ipython3",
      "version": "3.10.12"
    },
    "colab": {
      "provenance": [],
      "include_colab_link": true
    }
  },
  "nbformat": 4,
  "nbformat_minor": 5
}